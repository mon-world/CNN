{
 "cells": [
  {
   "cell_type": "code",
   "execution_count": null,
   "metadata": {},
   "outputs": [],
   "source": [
    "# 셋의 정확도? 비교\n",
    "# 다른 자료 준비해야할듯\n",
    "\n",
    "# 참고사항\n",
    "\n",
    "# # resNet\n",
    "# rn_acc=resNet.history.history['accuracy']\n",
    "# rn_val_acc=resNet.history.history['val_accuracy']\n",
    "# rn_loss=resNet.history.history['loss']\n",
    "# rn_val_loss=resNet.history.history['val_loss']\n",
    "\n",
    "# # renet_gpu\n",
    "# rn_g_acc=resnet_gpu.history.history['accuracy']\n",
    "# rn_g_val_acc=resnet_gpu.history.history['val_accuracy']\n",
    "# rn_g_loss=resnet_gpu.history.history['loss']\n",
    "# rn_g_val_loss=resnet_gpu.history.history['val_loss']\n",
    "\n",
    "# # resnet_fine\n",
    "# rn_f_acc=resnet_fine.history.history['accuracy']\n",
    "# rn_f_val_acc=resnet_fine.history.history['val_accuracy']\n",
    "# rn_f_loss=resnet_fine.history.history['loss']\n",
    "# rn_f_val_loss=resnet_fine.history.history['val_loss']"
   ]
  },
  {
   "cell_type": "code",
   "execution_count": null,
   "metadata": {},
   "outputs": [],
   "source": [
    "%matplotlib inline\n",
    "\n",
    "import matplotlib.image  as mpimg\n",
    "import matplotlib.pyplot as plt"
   ]
  },
  {
   "cell_type": "code",
   "execution_count": null,
   "metadata": {},
   "outputs": [],
   "source": [
    "import resnet_fine as rn_f\n",
    "import resnet_gpu as rn_g\n",
    "import resNet as rn\n",
    "\n",
    "# 그래프\n",
    "name = ['accuracy', 'val_accuracy', 'loss', 'val_loss']\n",
    "how = ['resNet', 'resnet_gpu', 'resnet_fine']\n",
    "\n",
    "for i in range(len(name)):\n",
    "    sp = plt.subplot(2, 2, i + 1)\n",
    "    for j in range(len(how)):\n",
    "        plt.plot(how[j].history.history[f'{name[i]}'])\n",
    "    plt.title(f'{name[i]}')\n"
   ]
  }
 ],
 "metadata": {
  "language_info": {
   "name": "python"
  },
  "orig_nbformat": 4
 },
 "nbformat": 4,
 "nbformat_minor": 2
}
