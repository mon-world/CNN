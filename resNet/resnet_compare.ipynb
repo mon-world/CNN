{
 "cells": [
  {
   "cell_type": "code",
   "execution_count": null,
   "metadata": {},
   "outputs": [],
   "source": [
    "# 셋의 정확도? 비교\n",
    "# 다른 자료 준비해야할듯"
   ]
  },
  {
   "cell_type": "code",
   "execution_count": null,
   "metadata": {},
   "outputs": [],
   "source": [
    "# 정확도와 loss 차트 그리기\n",
    "%matplotlib inline\n",
    "\n",
    "import matplotlib.image  as mpimg\n",
    "import matplotlib.pyplot as plt\n",
    "\n",
    "# history(res기본(의 train과 test의 정확도와 loss를 각각 가져온다.\n",
    "acc=history.history['accuracy']\n",
    "val_acc=history.history['val_accuracy']\n",
    "loss=history.history['loss']\n",
    "val_loss=history.history['val_loss']\n",
    "\n",
    "epochs=range(len(acc)) # 에포크\n",
    "\n",
    "# 그래프로 표시\n",
    "plt.plot(epochs, acc, 'r', \"acc\")\n",
    "plt.plot(epochs, val_acc, 'b', \"val_acc\")\n",
    "plt.plot(epochs, loss, 'y', \"loss\")\n",
    "plt.plot(epochs, val_loss, 'g', \"val_loss\")\n",
    "plt.legend(['acc','val_acc','loss','val_loss'], loc = 'upper left')\n",
    "\n",
    "plt.title('Training and validation : accuracy and loss')\n",
    "plt.figure()"
   ]
  }
 ],
 "metadata": {
  "language_info": {
   "name": "python"
  },
  "orig_nbformat": 4
 },
 "nbformat": 4,
 "nbformat_minor": 2
}
